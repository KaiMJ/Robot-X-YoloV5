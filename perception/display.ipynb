{
 "cells": [
  {
   "cell_type": "code",
   "execution_count": 9,
   "metadata": {},
   "outputs": [],
   "source": [
    "import matplotlib.pyplot as plt\n",
    "import torch\n",
    "import cv2"
   ]
  },
  {
   "cell_type": "code",
   "execution_count": 1,
   "metadata": {},
   "outputs": [],
   "source": [
    "dataset_location = '/home/mkim/Documents/RobotX/Buoy/yolov5/RobotX-Buoy-Detection-7'\n",
    "# !python train.py --img 416 --batch 16 --epochs 150 --data {dataset_location}/data.yaml --weights yolov5s.pt --cache"
   ]
  },
  {
   "cell_type": "code",
   "execution_count": 1,
   "metadata": {},
   "outputs": [
    {
     "name": "stderr",
     "output_type": "stream",
     "text": [
      "Using cache found in /home/mkim/.cache/torch/hub/ultralytics_yolov5_master\n",
      "YOLOv5 🚀 2022-10-14 Python-3.10.6 torch-1.12.1 CUDA:0 (NVIDIA GeForce RTX 3080 Ti, 12054MiB)\n",
      "\n",
      "Fusing layers... \n",
      "Model summary: 157 layers, 7018216 parameters, 0 gradients, 15.8 GFLOPs\n",
      "Adding AutoShape... \n"
     ]
    }
   ],
   "source": [
    "weights_path = '/home/mkim/Documents/RobotX/Buoy/yolov5/runs/train/exp2/weights/best.pt'\n",
    "model = torch.hub.load('ultralytics/yolov5', 'custom', weights_path)"
   ]
  },
  {
   "cell_type": "code",
   "execution_count": 4,
   "metadata": {},
   "outputs": [],
   "source": [
    "plot_path = \"/home/mkim/Documents/RobotX/Buoy/yolov5/perception/plots/\"\n",
    "test_image_path = \"/home/mkim/Documents/RobotX/Buoy/yolov5/RobotX-Buoy-Detection-7/test/images/9_jpg.rf.0742fd2b9691e8f00d5814ebac2fb097.jpg\"\n",
    "test_image_path = \"/home/mkim/Documents/RobotX/Buoy/yolov5/RobotX-Buoy-Detection-7/test/images/92_jpg.rf.5143d76b7afac39c07ae9619003f8b92.jpg\"\n",
    "\n",
    "test_label_path = \"/home/mkim/Documents/RobotX/Buoy/yolov5/RobotX-Buoy-Detection-7/test/labels/9_jpg.rf.0742fd2b9691e8f00d5814ebac2fb097.txt\"\n",
    "test_label_path = \"/home/mkim/Documents/RobotX/Buoy/yolov5/RobotX-Buoy-Detection-7/test/labels/92_jpg.rf.5143d76b7afac39c07ae9619003f8b92.txt\"\n"
   ]
  },
  {
   "cell_type": "code",
   "execution_count": 5,
   "metadata": {},
   "outputs": [],
   "source": [
    "test_image = plt.imread(test_image_path)\n",
    "\n",
    "plt.imshow(test_image)\n",
    "plt.show()\n",
    "\n",
    "plt.savefig(plot_path + 'test_image_square')"
   ]
  },
  {
   "cell_type": "code",
   "execution_count": 40,
   "metadata": {},
   "outputs": [
    {
     "data": {
      "text/plain": [
       "(640, 640, 3)"
      ]
     },
     "execution_count": 40,
     "metadata": {},
     "output_type": "execute_result"
    }
   ],
   "source": [
    "test_image.shape"
   ]
  },
  {
   "cell_type": "code",
   "execution_count": 6,
   "metadata": {},
   "outputs": [
    {
     "name": "stdout",
     "output_type": "stream",
     "text": [
      "[['1', '0.2203125', '0.628125', '0.03828125', '0.11328125'], ['2', '0.52734375', '0.61640625', '0.04453125', '0.13671875'], ['2', '0.75546875', '0.57421875', '0.0359375', '0.08828125'], ['0', '0.5984375', '0.58125', '0.0234375', '0.078125']]\n"
     ]
    }
   ],
   "source": [
    "with open(test_label_path) as f:\n",
    "    lines = [bbox.strip() for bbox in f.readlines()]\n",
    "    labels = [l.split(' ') for l in lines]  # cls, cx, cy, w, h\n",
    "    print(labels)"
   ]
  },
  {
   "cell_type": "code",
   "execution_count": 7,
   "metadata": {},
   "outputs": [],
   "source": [
    "label2class = {\n",
    "    '0': 'blue-buoy',\n",
    "    '1': 'pink-buoy',\n",
    "    '2': 'white-buoy'\n",
    "}\n",
    "label2color = {\n",
    "    '0': (0, 0, 255),\n",
    "    '1': (255, 0, 0),\n",
    "    '2': (0, 255, 0)\n",
    "}\n",
    "\n",
    "img_size = 640\n",
    "scale = lambda x: int(img_size * float(x))"
   ]
  },
  {
   "cell_type": "code",
   "execution_count": 13,
   "metadata": {},
   "outputs": [],
   "source": [
    "img = test_image.copy()\n",
    "\n",
    "for y in labels:\n",
    "    label, cx, cy, w, h = y\n",
    "    cls, cx, cy, w, h = label2class[label], scale(cx), scale(cy), scale(w), scale(h)\n",
    "\n",
    "    cv2.rectangle(img, (int(cx - w/2), int(cy - h/2)), ((int(cx+w/2)), int(cy+h/2)), label2color[label], 5)\n",
    "\n",
    "img = cv2.resize(img, (1448, 568))\n",
    "plt.imshow(img)\n",
    "plt.show()\n",
    "plt.savefig(plot_path + 'test_image_true')"
   ]
  },
  {
   "cell_type": "code",
   "execution_count": 24,
   "metadata": {},
   "outputs": [
    {
     "data": {
      "text/plain": [
       "YOLOv5 <class 'models.common.Detections'> instance\n",
       "image 1/1: 640x640 1 blue-buoy, 1 pink-buoy, 2 white-buoys\n",
       "Speed: 1.7ms pre-process, 8.6ms inference, 1.1ms NMS per image at shape (1, 3, 640, 640)"
      ]
     },
     "execution_count": 24,
     "metadata": {},
     "output_type": "execute_result"
    }
   ],
   "source": [
    "detections = model(test_image)\n",
    "detections"
   ]
  },
  {
   "cell_type": "code",
   "execution_count": 33,
   "metadata": {},
   "outputs": [
    {
     "data": {
      "text/plain": [
       "[tensor([[327.23633, 351.73798, 347.32861, 422.43695,   0.74727,   2.00000],\n",
       "         [129.60585, 367.45319, 150.46104, 429.40387,   0.73723,   1.00000],\n",
       "         [476.93851, 338.31360, 489.81955, 381.79858,   0.73380,   2.00000],\n",
       "         [375.90073, 349.03168, 388.39383, 386.75604,   0.72975,   0.00000]], device='cuda:0')]"
      ]
     },
     "execution_count": 33,
     "metadata": {},
     "output_type": "execute_result"
    }
   ],
   "source": [
    "predictions = detections.pred\n",
    "predictions # x1, y1, y1, y2, confidence, cls"
   ]
  },
  {
   "cell_type": "code",
   "execution_count": 39,
   "metadata": {},
   "outputs": [
    {
     "name": "stdout",
     "output_type": "stream",
     "text": [
      "327 347 351 422 (0, 255, 0)\n",
      "129 150 367 429 (255, 0, 0)\n",
      "476 489 338 381 (0, 255, 0)\n",
      "375 388 349 386 (0, 0, 255)\n"
     ]
    }
   ],
   "source": [
    "img = test_image.copy()\n",
    "\n",
    "for pred in predictions[0]:\n",
    "    x1, y1, x2, y2, confidence, label = pred\n",
    "    label = str(int(label))\n",
    "    x1, y1, x2, y2, cls = int(x1), int(y1), int(x2), int(y2), label2class[label]\n",
    "    print(x1, x2, y1, y2, label2color[label])\n",
    "    cv2.rectangle(img, (x1, y1), (x2, y2), label2color[label], 5)\n",
    "\n",
    "img = cv2.resize(img, (1448, 568))\n",
    "plt.imshow(img)\n",
    "plt.show()\n",
    "plt.savefig(plot_path + 'test_image_pred')"
   ]
  },
  {
   "cell_type": "code",
   "execution_count": 47,
   "metadata": {},
   "outputs": [
    {
     "data": {
      "text/plain": [
       "<matplotlib.image.AxesImage at 0x7fd0f8e8bdf0>"
      ]
     },
     "execution_count": 47,
     "metadata": {},
     "output_type": "execute_result"
    }
   ],
   "source": [
    "plt.imshow(img)"
   ]
  },
  {
   "cell_type": "code",
   "execution_count": null,
   "metadata": {},
   "outputs": [],
   "source": []
  }
 ],
 "metadata": {
  "kernelspec": {
   "display_name": "Python 3.10.6 ('robotx')",
   "language": "python",
   "name": "python3"
  },
  "language_info": {
   "codemirror_mode": {
    "name": "ipython",
    "version": 3
   },
   "file_extension": ".py",
   "mimetype": "text/x-python",
   "name": "python",
   "nbconvert_exporter": "python",
   "pygments_lexer": "ipython3",
   "version": "3.10.6"
  },
  "orig_nbformat": 4,
  "vscode": {
   "interpreter": {
    "hash": "56a44def1e534bd401543b8ab4b6a2e9d121a2e9c1247f75083f52648f29b598"
   }
  }
 },
 "nbformat": 4,
 "nbformat_minor": 2
}
